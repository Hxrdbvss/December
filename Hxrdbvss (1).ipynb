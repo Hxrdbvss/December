{
  "cells": [
    {
      "cell_type": "code",
      "execution_count": null,
      "metadata": {
        "colab": {
          "base_uri": "https://localhost:8080/"
        },
        "id": "OBpc_w-X3fRi",
        "outputId": "70362961-039a-4306-8504-e7fdaeb1a3ca"
      },
      "outputs": [
        {
          "output_type": "stream",
          "name": "stdout",
          "text": [
            "Requirement already satisfied: pip in /usr/local/lib/python3.10/dist-packages (24.3.1)\n",
            "Requirement already satisfied: setuptools in /usr/local/lib/python3.10/dist-packages (75.6.0)\n",
            "Requirement already satisfied: spacy_udpipe in /usr/local/lib/python3.10/dist-packages (1.0.0)\n",
            "Requirement already satisfied: jedi in /usr/local/lib/python3.10/dist-packages (0.19.2)\n",
            "Requirement already satisfied: spacy<4.0.0,>=3.0.0 in /usr/local/lib/python3.10/dist-packages (from spacy_udpipe) (3.7.5)\n",
            "Requirement already satisfied: ufal.udpipe>=1.2.0 in /usr/local/lib/python3.10/dist-packages (from spacy_udpipe) (1.3.1.1)\n",
            "Requirement already satisfied: parso<0.9.0,>=0.8.4 in /usr/local/lib/python3.10/dist-packages (from jedi) (0.8.4)\n",
            "Requirement already satisfied: spacy-legacy<3.1.0,>=3.0.11 in /usr/local/lib/python3.10/dist-packages (from spacy<4.0.0,>=3.0.0->spacy_udpipe) (3.0.12)\n",
            "Requirement already satisfied: spacy-loggers<2.0.0,>=1.0.0 in /usr/local/lib/python3.10/dist-packages (from spacy<4.0.0,>=3.0.0->spacy_udpipe) (1.0.5)\n",
            "Requirement already satisfied: murmurhash<1.1.0,>=0.28.0 in /usr/local/lib/python3.10/dist-packages (from spacy<4.0.0,>=3.0.0->spacy_udpipe) (1.0.11)\n",
            "Requirement already satisfied: cymem<2.1.0,>=2.0.2 in /usr/local/lib/python3.10/dist-packages (from spacy<4.0.0,>=3.0.0->spacy_udpipe) (2.0.10)\n",
            "Requirement already satisfied: preshed<3.1.0,>=3.0.2 in /usr/local/lib/python3.10/dist-packages (from spacy<4.0.0,>=3.0.0->spacy_udpipe) (3.0.9)\n",
            "Requirement already satisfied: thinc<8.3.0,>=8.2.2 in /usr/local/lib/python3.10/dist-packages (from spacy<4.0.0,>=3.0.0->spacy_udpipe) (8.2.5)\n",
            "Requirement already satisfied: wasabi<1.2.0,>=0.9.1 in /usr/local/lib/python3.10/dist-packages (from spacy<4.0.0,>=3.0.0->spacy_udpipe) (1.1.3)\n",
            "Requirement already satisfied: srsly<3.0.0,>=2.4.3 in /usr/local/lib/python3.10/dist-packages (from spacy<4.0.0,>=3.0.0->spacy_udpipe) (2.5.0)\n",
            "Requirement already satisfied: catalogue<2.1.0,>=2.0.6 in /usr/local/lib/python3.10/dist-packages (from spacy<4.0.0,>=3.0.0->spacy_udpipe) (2.0.10)\n",
            "Requirement already satisfied: weasel<0.5.0,>=0.1.0 in /usr/local/lib/python3.10/dist-packages (from spacy<4.0.0,>=3.0.0->spacy_udpipe) (0.4.1)\n",
            "Requirement already satisfied: typer<1.0.0,>=0.3.0 in /usr/local/lib/python3.10/dist-packages (from spacy<4.0.0,>=3.0.0->spacy_udpipe) (0.15.1)\n",
            "Requirement already satisfied: tqdm<5.0.0,>=4.38.0 in /usr/local/lib/python3.10/dist-packages (from spacy<4.0.0,>=3.0.0->spacy_udpipe) (4.67.1)\n",
            "Requirement already satisfied: requests<3.0.0,>=2.13.0 in /usr/local/lib/python3.10/dist-packages (from spacy<4.0.0,>=3.0.0->spacy_udpipe) (2.32.3)\n",
            "Requirement already satisfied: pydantic!=1.8,!=1.8.1,<3.0.0,>=1.7.4 in /usr/local/lib/python3.10/dist-packages (from spacy<4.0.0,>=3.0.0->spacy_udpipe) (2.10.3)\n",
            "Requirement already satisfied: jinja2 in /usr/local/lib/python3.10/dist-packages (from spacy<4.0.0,>=3.0.0->spacy_udpipe) (3.1.4)\n",
            "Requirement already satisfied: packaging>=20.0 in /usr/local/lib/python3.10/dist-packages (from spacy<4.0.0,>=3.0.0->spacy_udpipe) (24.2)\n",
            "Requirement already satisfied: langcodes<4.0.0,>=3.2.0 in /usr/local/lib/python3.10/dist-packages (from spacy<4.0.0,>=3.0.0->spacy_udpipe) (3.5.0)\n",
            "Requirement already satisfied: numpy>=1.19.0 in /usr/local/lib/python3.10/dist-packages (from spacy<4.0.0,>=3.0.0->spacy_udpipe) (1.26.4)\n",
            "Requirement already satisfied: language-data>=1.2 in /usr/local/lib/python3.10/dist-packages (from langcodes<4.0.0,>=3.2.0->spacy<4.0.0,>=3.0.0->spacy_udpipe) (1.3.0)\n",
            "Requirement already satisfied: annotated-types>=0.6.0 in /usr/local/lib/python3.10/dist-packages (from pydantic!=1.8,!=1.8.1,<3.0.0,>=1.7.4->spacy<4.0.0,>=3.0.0->spacy_udpipe) (0.7.0)\n",
            "Requirement already satisfied: pydantic-core==2.27.1 in /usr/local/lib/python3.10/dist-packages (from pydantic!=1.8,!=1.8.1,<3.0.0,>=1.7.4->spacy<4.0.0,>=3.0.0->spacy_udpipe) (2.27.1)\n",
            "Requirement already satisfied: typing-extensions>=4.12.2 in /usr/local/lib/python3.10/dist-packages (from pydantic!=1.8,!=1.8.1,<3.0.0,>=1.7.4->spacy<4.0.0,>=3.0.0->spacy_udpipe) (4.12.2)\n",
            "Requirement already satisfied: charset-normalizer<4,>=2 in /usr/local/lib/python3.10/dist-packages (from requests<3.0.0,>=2.13.0->spacy<4.0.0,>=3.0.0->spacy_udpipe) (3.4.0)\n",
            "Requirement already satisfied: idna<4,>=2.5 in /usr/local/lib/python3.10/dist-packages (from requests<3.0.0,>=2.13.0->spacy<4.0.0,>=3.0.0->spacy_udpipe) (3.10)\n",
            "Requirement already satisfied: urllib3<3,>=1.21.1 in /usr/local/lib/python3.10/dist-packages (from requests<3.0.0,>=2.13.0->spacy<4.0.0,>=3.0.0->spacy_udpipe) (2.2.3)\n",
            "Requirement already satisfied: certifi>=2017.4.17 in /usr/local/lib/python3.10/dist-packages (from requests<3.0.0,>=2.13.0->spacy<4.0.0,>=3.0.0->spacy_udpipe) (2024.12.14)\n",
            "Requirement already satisfied: blis<0.8.0,>=0.7.8 in /usr/local/lib/python3.10/dist-packages (from thinc<8.3.0,>=8.2.2->spacy<4.0.0,>=3.0.0->spacy_udpipe) (0.7.11)\n",
            "Requirement already satisfied: confection<1.0.0,>=0.0.1 in /usr/local/lib/python3.10/dist-packages (from thinc<8.3.0,>=8.2.2->spacy<4.0.0,>=3.0.0->spacy_udpipe) (0.1.5)\n",
            "Requirement already satisfied: click>=8.0.0 in /usr/local/lib/python3.10/dist-packages (from typer<1.0.0,>=0.3.0->spacy<4.0.0,>=3.0.0->spacy_udpipe) (8.1.7)\n",
            "Requirement already satisfied: shellingham>=1.3.0 in /usr/local/lib/python3.10/dist-packages (from typer<1.0.0,>=0.3.0->spacy<4.0.0,>=3.0.0->spacy_udpipe) (1.5.4)\n",
            "Requirement already satisfied: rich>=10.11.0 in /usr/local/lib/python3.10/dist-packages (from typer<1.0.0,>=0.3.0->spacy<4.0.0,>=3.0.0->spacy_udpipe) (13.9.4)\n",
            "Requirement already satisfied: cloudpathlib<1.0.0,>=0.7.0 in /usr/local/lib/python3.10/dist-packages (from weasel<0.5.0,>=0.1.0->spacy<4.0.0,>=3.0.0->spacy_udpipe) (0.20.0)\n",
            "Requirement already satisfied: smart-open<8.0.0,>=5.2.1 in /usr/local/lib/python3.10/dist-packages (from weasel<0.5.0,>=0.1.0->spacy<4.0.0,>=3.0.0->spacy_udpipe) (7.0.5)\n",
            "Requirement already satisfied: MarkupSafe>=2.0 in /usr/local/lib/python3.10/dist-packages (from jinja2->spacy<4.0.0,>=3.0.0->spacy_udpipe) (3.0.2)\n",
            "Requirement already satisfied: marisa-trie>=1.1.0 in /usr/local/lib/python3.10/dist-packages (from language-data>=1.2->langcodes<4.0.0,>=3.2.0->spacy<4.0.0,>=3.0.0->spacy_udpipe) (1.2.1)\n",
            "Requirement already satisfied: markdown-it-py>=2.2.0 in /usr/local/lib/python3.10/dist-packages (from rich>=10.11.0->typer<1.0.0,>=0.3.0->spacy<4.0.0,>=3.0.0->spacy_udpipe) (3.0.0)\n",
            "Requirement already satisfied: pygments<3.0.0,>=2.13.0 in /usr/local/lib/python3.10/dist-packages (from rich>=10.11.0->typer<1.0.0,>=0.3.0->spacy<4.0.0,>=3.0.0->spacy_udpipe) (2.18.0)\n",
            "Requirement already satisfied: wrapt in /usr/local/lib/python3.10/dist-packages (from smart-open<8.0.0,>=5.2.1->weasel<0.5.0,>=0.1.0->spacy<4.0.0,>=3.0.0->spacy_udpipe) (1.14.1)\n",
            "Requirement already satisfied: mdurl~=0.1 in /usr/local/lib/python3.10/dist-packages (from markdown-it-py>=2.2.0->rich>=10.11.0->typer<1.0.0,>=0.3.0->spacy<4.0.0,>=3.0.0->spacy_udpipe) (0.1.2)\n",
            "fatal: destination path 'stepik-dl-nlp' already exists and is not an empty directory.\n"
          ]
        }
      ],
      "source": [
        "# Установка и импорт библиотек\n",
        "!pip install --upgrade pip setuptools spacy_udpipe jedi\n",
        "!git clone https://github.com/Samsung-IT-Academy/stepik-dl-nlp.git && pip install -r stepik-dl-nlp/requirements.txt\n",
        "import sys;\n",
        "sys.path.append('./stepik-dl-nlp')\n",
        "\n",
        "import warnings\n",
        "warnings.filterwarnings('ignore')\n",
        "\n",
        "from sklearn.datasets import fetch_20newsgroups\n",
        "from sklearn.metrics import accuracy_score\n",
        "\n",
        "import numpy as np\n",
        "import matplotlib.pyplot as plt\n",
        "%matplotlib inline\n",
        "\n",
        "import collections\n",
        "\n",
        "import torch\n",
        "from torch import nn\n",
        "from torch.nn import functional as F\n",
        "\n",
        "import dlnlputils\n",
        "from dlnlputils.data import tokenize_text_simple_regex, tokenize_corpus, build_vocabulary, \\\n",
        "    vectorize_texts, SparseFeaturesDataset\n",
        "from dlnlputils.pipeline import train_eval_loop, predict_with_model, init_random_seed\n",
        "\n",
        "# Импортируем библиотеки для стемминга\n",
        "import nltk\n",
        "from nltk.stem import PorterStemmer\n",
        "\n",
        "# Инициализация случайного сидирования для воспроизводимости\n",
        "init_random_seed()"
      ]
    },
    {
      "cell_type": "code",
      "source": [
        "#Код стемминга\n",
        "# Функция для стемминга текста\n",
        "stemmer = PorterStemmer()\n",
        "\n",
        "def tokenize_with_stemming(text):\n",
        "    \"\"\"Токенизация и стемминг текста\"\"\"\n",
        "    tokens = tokenize_text_simple_regex(text)  # Переиспользуем токенизацию\n",
        "    return [stemmer.stem(token) for token in tokens]  # Применяем стемминг ко всем токенам\n"
      ],
      "metadata": {
        "id": "aLdtogwmgdf7"
      },
      "execution_count": null,
      "outputs": []
    },
    {
      "cell_type": "code",
      "execution_count": null,
      "metadata": {
        "colab": {
          "base_uri": "https://localhost:8080/"
        },
        "id": "87thuDgO3i4w",
        "outputId": "deac8534-687c-4e09-da8d-2133b2b92e1d"
      },
      "outputs": [
        {
          "output_type": "stream",
          "name": "stdout",
          "text": [
            "Количество обучающих текстов 11314\n",
            "Количество тестовых текстов 7532\n",
            "\n",
            "Пример обучающего текста:\n",
            "From: lerxst@wam.umd.edu (where's my thing)\n",
            "Subject: WHAT car is this!?\n",
            "Nntp-Posting-Host: rac3.wam.umd.edu\n",
            "Organization: University of Maryland, College Park\n",
            "Lines: 15\n",
            "\n",
            " I was wondering if anyone out there could enlighten me on this car I saw\n",
            "the other day. It was a 2-door sports car, looked to be from the late 60s/\n",
            "early 70s. It was called a Bricklin. The doors were really small. In addition,\n",
            "the front bumper was separate from the rest of the body. This is \n",
            "all I know. If anyone can tellme a model name, engine specs, years\n",
            "of production, where this car is made, history, or whatever info you\n",
            "have on this funky looking car, please e-mail.\n",
            "\n",
            "Thanks,\n",
            "- IL\n",
            "   ---- brought to you by your neighborhood Lerxst ----\n",
            "\n",
            "Метка 7\n"
          ]
        }
      ],
      "source": [
        "# Загружаем данные из набора 20 newsgroups\n",
        "train_source = fetch_20newsgroups(subset='train')\n",
        "test_source = fetch_20newsgroups(subset='test')\n",
        "\n",
        "print('Количество обучающих текстов', len(train_source['data']))\n",
        "print('Количество тестовых текстов', len(test_source['data']))\n",
        "print()\n",
        "print(\"Пример обучающего текста:\")\n",
        "print(train_source['data'][0].strip())\n",
        "print()\n",
        "print('Метка', train_source['target'][0])"
      ]
    },
    {
      "cell_type": "code",
      "execution_count": null,
      "metadata": {
        "colab": {
          "base_uri": "https://localhost:8080/"
        },
        "id": "IoDxRrgD4yNa",
        "outputId": "20480c4d-00f6-48d1-8b0a-7ae44a93bc94"
      },
      "outputs": [
        {
          "output_type": "stream",
          "name": "stdout",
          "text": [
            "Пример токенизированного текста:\n",
            "from lerxst where thing subject what this nntp posting host rac3 organization university maryland college park lines wondering anyone there could enlighten this other door sports looked from late early called bricklin doors were really small addition front bumper separate from rest body this know anyone tellme model name engine specs years production where this made history whatever info have this funky looking please mail thanks brought your neighborhood lerxst\n"
          ]
        }
      ],
      "source": [
        "# Разбиваем тексты на токены и применяем стемминг\n",
        "train_tokenized = [tokenize_with_stemming(text) for text in train_source['data']]\n",
        "test_tokenized = [tokenize_with_stemming(text) for text in test_source['data']]\n",
        "\n",
        "print('Пример токенизированного текста:')\n",
        "print(' '.join(train_tokenized[0]))"
      ]
    },
    {
      "cell_type": "code",
      "execution_count": null,
      "metadata": {
        "colab": {
          "base_uri": "https://localhost:8080/"
        },
        "id": "fqDj8Tk940GO",
        "outputId": "3d9009c9-f8c1-4d1d-85b6-a16b9130da7e"
      },
      "outputs": [
        {
          "output_type": "stream",
          "name": "stdout",
          "text": [
            "Количество уникальных токенов 12855\n",
            "Пример словаря:\n",
            "[('this', 0), ('have', 1), ('with', 2), ('writes', 3), ('article', 4), ('posting', 5), ('host', 6), ('nntp', 7), ('there', 8), ('what', 9)]\n"
          ]
        }
      ],
      "source": [
        "# Построение словаря\n",
        "MAX_DF = 0.7  # Максимальная доля документов, содержащих слово\n",
        "MIN_COUNT = 10  # Минимальное количество вхождений слова в корпус\n",
        "\n",
        "vocabulary, word_doc_freq = build_vocabulary(train_tokenized, max_doc_freq=MAX_DF, min_count=MIN_COUNT)\n",
        "UNIQUE_WORDS_N = len(vocabulary)\n",
        "print('Количество уникальных токенов', UNIQUE_WORDS_N)\n",
        "print(\"Пример словаря:\")\n",
        "print(list(vocabulary.items())[:10])\n"
      ]
    },
    {
      "cell_type": "code",
      "execution_count": null,
      "metadata": {
        "colab": {
          "base_uri": "https://localhost:8080/",
          "height": 452
        },
        "id": "_Ze6OCOY41Rm",
        "outputId": "b97b5d62-3a93-4485-f98e-8b4ea20e53a4"
      },
      "outputs": [
        {
          "output_type": "display_data",
          "data": {
            "text/plain": [
              "<Figure size 640x480 with 1 Axes>"
            ],
            "image/png": "[encoded data removed]"
          },
          "metadata": {}
        }
      ],
      "source": [
        "# Визуализируем распределение частот слов\n",
        "plt.hist(word_doc_freq, bins=20)\n",
        "plt.title('Распределение относительных частот слов')\n",
        "plt.yscale('log')\n",
        "plt.show()"
      ]
    },
    {
      "cell_type": "code",
      "execution_count": null,
      "metadata": {
        "colab": {
          "base_uri": "https://localhost:8080/"
        },
        "id": "x7JntmYEIWIf",
        "outputId": "9f29bd23-4586-47fa-e6cc-685992091236"
      },
      "outputs": [
        {
          "output_type": "stream",
          "name": "stdout",
          "text": [
            "\n",
            "Пример PMI-оценок:\n",
            "[('this', -6.324967700116833), ('have', -6.47975388018796), ('with', -6.5408143556408165), ('writes', -7.684008267360606), ('article', -7.760683054940768), ('posting', -8.194331194401876), ('host', -8.334824325944798), ('nntp', -8.388361661078259), ('there', -7.379250029870382), ('what', -7.353863845751289)]\n"
          ]
        }
      ],
      "source": [
        "# Расчет PMI\n",
        "from collections import defaultdict\n",
        "from math import log2\n",
        "\n",
        "def calculate_pmi(tokenized_corpus, vocabulary):\n",
        "    \"\"\"Расчет точечной взаимной информации (PMI) для каждого слова в словаре.\"\"\"\n",
        "    word_count = defaultdict(int)\n",
        "    pair_count = defaultdict(int)\n",
        "    total_count = 0\n",
        "\n",
        "    # Подсчет частоты слов и пар слов\n",
        "    for tokens in tokenized_corpus:\n",
        "        total_count += len(tokens)\n",
        "        for token1 in tokens:\n",
        "            word_count[token1] += 1\n",
        "            for token2 in tokens:\n",
        "                if token1 != token2:\n",
        "                    pair_count[(token1, token2)] += 1\n",
        "\n",
        "    # Вычисление PMI для каждого слова в словаре\n",
        "    pmi_scores = {}\n",
        "    for word in vocabulary:\n",
        "        word_freq = word_count.get(word, 0)\n",
        "        if word_freq > 0:\n",
        "            p_word = word_freq / total_count\n",
        "            # PMI для отдельных слов\n",
        "            pmi = log2(p_word / ((sum(word_count[w] for w in vocabulary) / total_count)))\n",
        "            pmi_scores[word] = pmi\n",
        "\n",
        "    return pmi_scores\n",
        "\n",
        "pmi_scores = calculate_pmi(train_tokenized, vocabulary)\n",
        "print(\"\\nПример PMI-оценок:\")\n",
        "print(list(pmi_scores.items())[:10])"
      ]
    },
    {
      "cell_type": "code",
      "execution_count": null,
      "metadata": {
        "colab": {
          "base_uri": "https://localhost:8080/"
        },
        "id": "1xxs6fyGIag2",
        "outputId": "8b03375c-39e9-41ac-f231-9c6e55563c03"
      },
      "outputs": [
        {
          "output_type": "stream",
          "name": "stdout",
          "text": [
            "\n",
            "Размерность матрицы признаков обучающей выборки (PMI) torch.Size([11314, 12855])\n",
            "Размерность матрицы признаков тестовой выборки (PMI) torch.Size([7532, 12855])\n"
          ]
        }
      ],
      "source": [
        "# Векторизация текстов с использованием PMI\n",
        "def vectorize_texts_with_pmi(tokenized_texts, vocabulary, pmi_scores):\n",
        "    \"\"\"Векторизация текстов с использованием значений PMI.\"\"\"\n",
        "    row, col, data = [], [], []\n",
        "\n",
        "    for i, tokens in enumerate(tokenized_texts):\n",
        "        token_counts = collections.Counter(tokens)\n",
        "        for token, count in token_counts.items():\n",
        "            if token in vocabulary:\n",
        "                row.append(i)\n",
        "                col.append(vocabulary[token])\n",
        "                data.append(pmi_scores.get(token, 0) * count)\n",
        "\n",
        "    matrix = torch.sparse_coo_tensor(\n",
        "        indices=[row, col],\n",
        "        values=data,\n",
        "        size=(len(tokenized_texts), len(vocabulary))\n",
        "    )\n",
        "    return matrix\n",
        "\n",
        "train_vectors_pmi = vectorize_texts_with_pmi(train_tokenized, vocabulary, pmi_scores)\n",
        "test_vectors_pmi = vectorize_texts_with_pmi(test_tokenized, vocabulary, pmi_scores)\n",
        "\n",
        "print('\\nРазмерность матрицы признаков обучающей выборки (PMI)', train_vectors_pmi.shape)\n",
        "print('Размерность матрицы признаков тестовой выборки (PMI)', test_vectors_pmi.shape)"
      ]
    },
    {
      "cell_type": "code",
      "execution_count": null,
      "metadata": {
        "colab": {
          "base_uri": "https://localhost:8080/"
        },
        "id": "8mfTuKAC42cE",
        "outputId": "7fd33dd2-1d9f-4d75-9ba5-32d8e5fc329d"
      },
      "outputs": [
        {
          "output_type": "stream",
          "name": "stdout",
          "text": [
            "\n",
            "Размерность матрицы признаков обучающей выборки (11314, 12855)\n",
            "Размерность матрицы признаков тестовой выборки (7532, 12855)\n",
            "Количество ненулевых элементов в обучающей выборке 1061498\n",
            "Процент заполненности матрицы признаков 0.73%\n",
            "\n",
            "Количество ненулевых элементов в тестовой выборке 683991\n",
            "Процент заполненности матрицы признаков 0.71%\n"
          ]
        }
      ],
      "source": [
        "# Векторизация текстов (tf-idf)\n",
        "VECTORIZATION_MODE = 'tfidf'\n",
        "train_vectors = vectorize_texts(train_tokenized, vocabulary, word_doc_freq, mode=VECTORIZATION_MODE)\n",
        "test_vectors = vectorize_texts(test_tokenized, vocabulary, word_doc_freq, mode=VECTORIZATION_MODE)\n",
        "\n",
        "print('\\nРазмерность матрицы признаков обучающей выборки', train_vectors.shape)\n",
        "print('Размерность матрицы признаков тестовой выборки', test_vectors.shape)\n",
        "\n",
        "\n",
        "# Выводим статистику разреженности матрицы признаков\n",
        "print('Количество ненулевых элементов в обучающей выборке', train_vectors.nnz)\n",
        "print('Процент заполненности матрицы признаков {:.2f}%'.format(train_vectors.nnz * 100 / (train_vectors.shape[0] * train_vectors.shape[1])))\n",
        "print()\n",
        "print('Количество ненулевых элементов в тестовой выборке', test_vectors.nnz)\n",
        "print('Процент заполненности матрицы признаков {:.2f}%'.format(test_vectors.nnz * 100 / (test_vectors.shape[0] * test_vectors.shape[1])))"
      ]
    },
    {
      "cell_type": "code",
      "execution_count": null,
      "metadata": {
        "colab": {
          "base_uri": "https://localhost:8080/",
          "height": 452
        },
        "id": "O9EEwVis5OQN",
        "outputId": "1ff16d22-f24a-4efd-c427-1ba4c137ac4e"
      },
      "outputs": [
        {
          "output_type": "display_data",
          "data": {
            "text/plain": [
              "<Figure size 640x480 with 1 Axes>"
            ],
            "image/png": "[encoded data removed]"
          },
          "metadata": {}
        }
      ],
      "source": [
        "# Визуализируем распределение весов признаков\n",
        "plt.hist(train_vectors.data, bins=20)\n",
        "plt.title('Распределение весов признаков')\n",
        "plt.yscale('log')\n",
        "plt.show()"
      ]
    },
    {
      "cell_type": "code",
      "execution_count": null,
      "metadata": {
        "colab": {
          "base_uri": "https://localhost:8080/"
        },
        "id": "CmVpUw8K5Ppc",
        "outputId": "a4d6260f-a793-4306-c703-b24d1eed7688"
      },
      "outputs": [
        {
          "output_type": "stream",
          "name": "stdout",
          "text": [
            "Количество уникальных меток 20\n"
          ]
        }
      ],
      "source": [
        "# Считаем количество уникальных меток\n",
        "UNIQUE_LABELS_N = len(set(train_source['target']))\n",
        "print('Количество уникальных меток', UNIQUE_LABELS_N)"
      ]
    },
    {
      "cell_type": "code",
      "execution_count": null,
      "metadata": {
        "colab": {
          "base_uri": "https://localhost:8080/",
          "height": 452
        },
        "id": "BGLMQys05Qid",
        "outputId": "e433a1a4-9501-405d-a113-7559a2937147"
      },
      "outputs": [
        {
          "output_type": "display_data",
          "data": {
            "text/plain": [
              "<Figure size 640x480 with 1 Axes>"
            ],
            "image/png": "[encoded data removed]"
          },
          "metadata": {}
        }
      ],
      "source": [
        "# Визуализируем распределение меток\n",
        "plt.hist(train_source['target'], bins=np.arange(0, 21))\n",
        "plt.title('Распределение меток в обучающей выборке')\n",
        "plt.show()"
      ]
    },
    {
      "cell_type": "code",
      "execution_count": null,
      "metadata": {
        "colab": {
          "base_uri": "https://localhost:8080/",
          "height": 452
        },
        "id": "-Agx5MuQ5RqZ",
        "outputId": "c23bba39-bdb1-4949-aa45-62540a6a8b9c"
      },
      "outputs": [
        {
          "output_type": "display_data",
          "data": {
            "text/plain": [
              "<Figure size 640x480 with 1 Axes>"
            ],
            "image/png": "[encoded data removed]"
          },
          "metadata": {}
        }
      ],
      "source": [
        "plt.hist(test_source['target'], bins=np.arange(0, 21))\n",
        "plt.title('Распределение меток в тестовой выборке')\n",
        "plt.show()"
      ]
    },
    {
      "cell_type": "code",
      "execution_count": null,
      "metadata": {
        "id": "yh7IQBbx5Sw2"
      },
      "outputs": [],
      "source": [
        "train_dataset = SparseFeaturesDataset(train_vectors, train_source['target'])\n",
        "test_dataset = SparseFeaturesDataset(test_vectors, test_source['target'])"
      ]
    },
    {
      "cell_type": "code",
      "execution_count": null,
      "metadata": {
        "id": "55PZwI_MKZUg"
      },
      "outputs": [],
      "source": [
        "# Трёхслойная нейронная сеть\n",
        "class ThreeLayerNN(nn.Module):\n",
        "    def __init__(self, input_dim, hidden_dim, output_dim):\n",
        "        super(ThreeLayerNN, self).__init__()\n",
        "        self.fc1 = nn.Linear(input_dim, hidden_dim)\n",
        "        self.bn1 = nn.BatchNorm1d(hidden_dim)\n",
        "        self.dropout1 = nn.Dropout(p=0.3)\n",
        "        self.fc2 = nn.Linear(hidden_dim, hidden_dim // 2)\n",
        "        self.bn2 = nn.BatchNorm1d(hidden_dim // 2)\n",
        "        self.dropout2 = nn.Dropout(p=0.3)\n",
        "        self.fc3 = nn.Linear(hidden_dim // 2, output_dim)\n",
        "\n",
        "    def forward(self, x):\n",
        "        x = F.relu(self.bn1(self.fc1(x)))\n",
        "        x = self.dropout1(x)\n",
        "        x = F.relu(self.bn2(self.fc2(x)))\n",
        "        x = self.dropout2(x)\n",
        "        x = self.fc3(x)\n",
        "        return x"
      ]
    },
    {
      "cell_type": "code",
      "execution_count": null,
      "metadata": {
        "colab": {
          "base_uri": "https://localhost:8080/"
        },
        "id": "cQsmOca35Tmx",
        "outputId": "ab27cfc7-fd56-4dae-b14a-24e68e678b36"
      },
      "outputs": [
        {
          "output_type": "stream",
          "name": "stdout",
          "text": [
            "Эпоха 0\n",
            "Эпоха: 89 итераций, 22.72 сек\n",
            "Среднее значение функции потерь на обучении 2.6482111470083174\n",
            "Среднее значение функции потерь на валидации 2.3323322150666836\n",
            "Новая лучшая модель!\n",
            "\n",
            "Эпоха 1\n",
            "Эпоха: 89 итераций, 21.70 сек\n",
            "Среднее значение функции потерь на обучении 2.4584830289476374\n",
            "Среднее значение функции потерь на валидации 2.2889568078315863\n",
            "Новая лучшая модель!\n",
            "\n",
            "Эпоха 2\n",
            "Эпоха: 89 итераций, 21.10 сек\n",
            "Среднее значение функции потерь на обучении 2.4438603486907615\n",
            "Среднее значение функции потерь на валидации 2.3214630272428867\n",
            "\n",
            "Эпоха 3\n",
            "Эпоха: 89 итераций, 21.30 сек\n",
            "Среднее значение функции потерь на обучении 2.421043610304929\n",
            "Среднее значение функции потерь на валидации 2.3351162368968383\n",
            "\n",
            "Эпоха 4\n",
            "Эпоха: 89 итераций, 20.60 сек\n",
            "Среднее значение функции потерь на обучении 2.4298030124621444\n",
            "Среднее значение функции потерь на валидации 2.3205606007980086\n",
            "\n",
            "Эпоха 5\n",
            "Эпоха: 89 итераций, 21.80 сек\n",
            "Среднее значение функции потерь на обучении 2.4370713126793335\n",
            "Среднее значение функции потерь на валидации 2.330958216877307\n",
            "\n",
            "Эпоха 6\n",
            "Эпоха: 89 итераций, 21.30 сек\n",
            "Среднее значение функции потерь на обучении 2.4259024523617176\n",
            "Среднее значение функции потерь на валидации 2.3564874398506293\n",
            "\n",
            "Эпоха 7\n",
            "Эпоха: 89 итераций, 19.79 сек\n",
            "Среднее значение функции потерь на обучении 2.4120589508099504\n",
            "Среднее значение функции потерь на валидации 2.283132520772643\n",
            "Новая лучшая модель!\n",
            "\n",
            "Эпоха 8\n",
            "Эпоха: 89 итераций, 21.59 сек\n",
            "Среднее значение функции потерь на обучении 2.3931723873267012\n",
            "Среднее значение функции потерь на валидации 2.236221707473367\n",
            "Новая лучшая модель!\n",
            "\n",
            "Эпоха 9\n",
            "Эпоха: 89 итераций, 19.91 сек\n",
            "Среднее значение функции потерь на обучении 2.399268785219514\n",
            "Среднее значение функции потерь на валидации 2.2427215859041376\n",
            "\n",
            "Эпоха 10\n",
            "Эпоха: 89 итераций, 20.30 сек\n",
            "Среднее значение функции потерь на обучении 2.4524850604239474\n",
            "Среднее значение функции потерь на валидации 2.2997030928983526\n",
            "\n",
            "Эпоха 11\n",
            "Эпоха: 89 итераций, 19.70 сек\n",
            "Среднее значение функции потерь на обучении 2.417398543840044\n",
            "Среднее значение функции потерь на валидации 2.327651549193819\n",
            "\n",
            "Эпоха 12\n",
            "Эпоха: 89 итераций, 21.70 сек\n",
            "Среднее значение функции потерь на обучении 2.405186650458347\n",
            "Среднее значение функции потерь на валидации 2.322454771753085\n",
            "\n",
            "Эпоха 13\n",
            "Эпоха: 89 итераций, 19.80 сек\n",
            "Среднее значение функции потерь на обучении 2.41856032275082\n",
            "Среднее значение функции потерь на валидации 2.390023251711312\n",
            "\n",
            "Эпоха 14\n",
            "Эпоха: 89 итераций, 21.50 сек\n",
            "Среднее значение функции потерь на обучении 2.4209440022372126\n",
            "Среднее значение функции потерь на валидации 2.2731273578385176\n",
            "\n",
            "Эпоха 15\n",
            "Эпоха: 89 итераций, 20.70 сек\n",
            "Среднее значение функции потерь на обучении 2.1984463742609774\n",
            "Среднее значение функции потерь на валидации 2.0108058715270736\n",
            "Новая лучшая модель!\n",
            "\n",
            "Эпоха 16\n",
            "Эпоха: 89 итераций, 20.90 сек\n",
            "Среднее значение функции потерь на обучении 2.1573647823226585\n",
            "Среднее значение функции потерь на валидации 1.9995831695653625\n",
            "Новая лучшая модель!\n",
            "\n",
            "Эпоха 17\n",
            "Эпоха: 89 итераций, 20.60 сек\n",
            "Среднее значение функции потерь на обучении 2.135032239924656\n",
            "Среднее значение функции потерь на валидации 2.007216873815504\n",
            "\n",
            "Эпоха 18\n",
            "Эпоха: 89 итераций, 20.60 сек\n",
            "Среднее значение функции потерь на обучении 2.1030261114741977\n",
            "Среднее значение функции потерь на валидации 2.0250000246500566\n",
            "\n",
            "Эпоха 19\n",
            "Эпоха: 89 итераций, 21.30 сек\n",
            "Среднее значение функции потерь на обучении 2.115421845671836\n",
            "Среднее значение функции потерь на валидации 1.932869781882076\n",
            "Новая лучшая модель!\n",
            "\n",
            "Эпоха 20\n",
            "Эпоха: 89 итераций, 20.90 сек\n",
            "Среднее значение функции потерь на обучении 2.1064520806409\n",
            "Среднее значение функции потерь на валидации 2.021681015774355\n",
            "\n",
            "Эпоха 21\n",
            "Эпоха: 89 итераций, 21.10 сек\n",
            "Среднее значение функции потерь на обучении 2.0870801304163558\n",
            "Среднее значение функции потерь на валидации 1.9563072172261902\n",
            "\n",
            "Эпоха 22\n",
            "Эпоха: 89 итераций, 22.20 сек\n",
            "Среднее значение функции потерь на обучении 2.0822013549590377\n",
            "Среднее значение функции потерь на валидации 1.969563817573806\n",
            "\n",
            "Эпоха 23\n",
            "Эпоха: 89 итераций, 22.50 сек\n",
            "Среднее значение функции потерь на обучении 2.111565113067627\n",
            "Среднее значение функции потерь на валидации 1.9614658881041964\n",
            "\n",
            "Эпоха 24\n",
            "Эпоха: 89 итераций, 21.90 сек\n",
            "Среднее значение функции потерь на обучении 2.0890254867210816\n",
            "Среднее значение функции потерь на валидации 2.0338087384983643\n",
            "\n",
            "Эпоха 25\n",
            "Эпоха: 89 итераций, 23.40 сек\n",
            "Среднее значение функции потерь на обучении 2.063530750488967\n",
            "Среднее значение функции потерь на валидации 1.9244190757557498\n",
            "Новая лучшая модель!\n",
            "\n",
            "Эпоха 26\n",
            "Эпоха: 89 итераций, 23.60 сек\n",
            "Среднее значение функции потерь на обучении 2.076054768615894\n",
            "Среднее значение функции потерь на валидации 1.948505462226221\n",
            "\n",
            "Эпоха 27\n",
            "Эпоха: 89 итераций, 23.00 сек\n",
            "Среднее значение функции потерь на обучении 2.064171491044291\n",
            "Среднее значение функции потерь на валидации 1.9603914365930073\n",
            "\n",
            "Эпоха 28\n",
            "Эпоха: 89 итераций, 23.51 сек\n",
            "Среднее значение функции потерь на обучении 2.07234470897846\n",
            "Среднее значение функции потерь на валидации 1.9841186798225015\n",
            "\n",
            "Эпоха 29\n",
            "Эпоха: 89 итераций, 24.30 сек\n",
            "Среднее значение функции потерь на обучении 2.0759031893162243\n",
            "Среднее значение функции потерь на валидации 1.951392515230987\n",
            "\n",
            "Эпоха 30\n",
            "Эпоха: 89 итераций, 23.50 сек\n",
            "Среднее значение функции потерь на обучении 2.0779062777422785\n",
            "Среднее значение функции потерь на валидации 1.9079312672049313\n",
            "Новая лучшая модель!\n",
            "\n",
            "Эпоха 31\n",
            "Эпоха: 89 итераций, 22.40 сек\n",
            "Среднее значение функции потерь на обучении 2.0518341185001843\n",
            "Среднее значение функции потерь на валидации 1.9624359345031996\n",
            "\n",
            "Эпоха 32\n",
            "Эпоха: 89 итераций, 23.40 сек\n",
            "Среднее значение функции потерь на обучении 2.0650528522019975\n",
            "Среднее значение функции потерь на валидации 1.986716973579536\n",
            "\n",
            "Эпоха 33\n",
            "Эпоха: 89 итераций, 23.00 сек\n",
            "Среднее значение функции потерь на обучении 2.0465158103557117\n",
            "Среднее значение функции потерь на валидации 1.990742671287666\n",
            "\n",
            "Эпоха 34\n",
            "Эпоха: 89 итераций, 22.61 сек\n",
            "Среднее значение функции потерь на обучении 2.070999002188779\n",
            "Среднее значение функции потерь на валидации 1.948907593549308\n",
            "\n",
            "Эпоха 35\n",
            "Эпоха: 89 итераций, 21.30 сек\n",
            "Среднее значение функции потерь на обучении 2.0320173126927923\n",
            "Среднее значение функции потерь на валидации 1.9453546313916223\n",
            "\n",
            "Эпоха 36\n",
            "Эпоха: 89 итераций, 22.10 сек\n",
            "Среднее значение функции потерь на обучении 2.0416119031691817\n",
            "Среднее значение функции потерь на валидации 1.919128310882439\n",
            "\n",
            "Эпоха 37\n",
            "Эпоха: 89 итераций, 23.20 сек\n",
            "Среднее значение функции потерь на обучении 1.864965772360898\n",
            "Среднее значение функции потерь на валидации 1.7183677402593323\n",
            "Новая лучшая модель!\n",
            "\n",
            "Эпоха 38\n",
            "Эпоха: 89 итераций, 23.70 сек\n",
            "Среднее значение функции потерь на обучении 1.7892525249652649\n",
            "Среднее значение функции потерь на валидации 1.6856799206491244\n",
            "Новая лучшая модель!\n",
            "\n",
            "Эпоха 39\n",
            "Эпоха: 89 итераций, 21.50 сек\n",
            "Среднее значение функции потерь на обучении 1.785653841629457\n",
            "Среднее значение функции потерь на валидации 1.7385890039346985\n",
            "\n",
            "Эпоха 40\n",
            "Эпоха: 89 итераций, 22.60 сек\n",
            "Среднее значение функции потерь на обучении 1.8056139450394706\n",
            "Среднее значение функции потерь на валидации 1.7090287996550737\n",
            "\n",
            "Эпоха 41\n",
            "Эпоха: 89 итераций, 21.50 сек\n",
            "Среднее значение функции потерь на обучении 1.7801723573984725\n",
            "Среднее значение функции потерь на валидации 1.6875794135918052\n",
            "\n",
            "Эпоха 42\n",
            "Эпоха: 89 итераций, 24.10 сек\n",
            "Среднее значение функции потерь на обучении 1.7461870506908117\n",
            "Среднее значение функции потерь на валидации 1.6764580354852192\n",
            "Новая лучшая модель!\n",
            "\n",
            "Эпоха 43\n",
            "Эпоха: 89 итераций, 23.00 сек\n",
            "Среднее значение функции потерь на обучении 1.7578035994861902\n",
            "Среднее значение функции потерь на валидации 1.7015922776723311\n",
            "\n",
            "Эпоха 44\n",
            "Эпоха: 89 итераций, 21.60 сек\n",
            "Среднее значение функции потерь на обучении 1.7551890450916934\n",
            "Среднее значение функции потерь на валидации 1.6715613199492632\n",
            "Новая лучшая модель!\n",
            "\n",
            "Эпоха 45\n",
            "Эпоха: 89 итераций, 21.80 сек\n",
            "Среднее значение функции потерь на обучении 1.7514881190289273\n",
            "Среднее значение функции потерь на валидации 1.7087813898668451\n",
            "\n",
            "Эпоха 46\n",
            "Эпоха: 89 итераций, 23.40 сек\n",
            "Среднее значение функции потерь на обучении 1.7194398239757238\n",
            "Среднее значение функции потерь на валидации 1.6812804108959134\n",
            "\n",
            "Эпоха 47\n",
            "Эпоха: 89 итераций, 21.80 сек\n",
            "Среднее значение функции потерь на обучении 1.759291451968504\n",
            "Среднее значение функции потерь на валидации 1.6062694889003948\n",
            "Новая лучшая модель!\n",
            "\n",
            "Эпоха 48\n",
            "Эпоха: 89 итераций, 21.60 сек\n",
            "Среднее значение функции потерь на обучении 1.7383927307771834\n",
            "Среднее значение функции потерь на валидации 1.7102879124172663\n",
            "\n",
            "Эпоха 49\n",
            "Эпоха: 89 итераций, 24.00 сек\n",
            "Среднее значение функции потерь на обучении 1.7151713799894526\n",
            "Среднее значение функции потерь на валидации 1.64591507992502\n",
            "\n",
            "Эпоха 50\n",
            "Эпоха: 89 итераций, 22.70 сек\n",
            "Среднее значение функции потерь на обучении 1.713938978280914\n",
            "Среднее значение функции потерь на валидации 1.6816182378995217\n",
            "\n",
            "Эпоха 51\n",
            "Эпоха: 89 итераций, 21.30 сек\n",
            "Среднее значение функции потерь на обучении 1.709001210298431\n",
            "Среднее значение функции потерь на валидации 1.640320925389306\n",
            "\n",
            "Эпоха 52\n",
            "Эпоха: 89 итераций, 23.70 сек\n",
            "Среднее значение функции потерь на обучении 1.7197980519091145\n",
            "Среднее значение функции потерь на валидации 1.6855470871521254\n",
            "\n",
            "Эпоха 53\n",
            "Эпоха: 89 итераций, 23.00 сек\n",
            "Среднее значение функции потерь на обучении 1.7047596125120528\n",
            "Среднее значение функции потерь на валидации 1.651812420052997\n",
            "\n",
            "Эпоха 54\n",
            "Эпоха: 89 итераций, 23.50 сек\n",
            "Среднее значение функции потерь на обучении 1.5764735669232486\n",
            "Среднее значение функции потерь на валидации 1.4951470605397628\n",
            "Новая лучшая модель!\n",
            "\n",
            "Эпоха 55\n",
            "Эпоха: 89 итераций, 21.60 сек\n",
            "Среднее значение функции потерь на обучении 1.4505423709247889\n",
            "Среднее значение функции потерь на валидации 1.4718054957309012\n",
            "Новая лучшая модель!\n",
            "\n",
            "Эпоха 56\n",
            "Досрочно остановлено пользователем\n"
          ]
        }
      ],
      "source": [
        "# Создаем модель\n",
        "model = ThreeLayerNN(input_dim=UNIQUE_WORDS_N, hidden_dim=32, output_dim=UNIQUE_LABELS_N)\n",
        "\n",
        "# Определяем планировщик обучения (scheduler)\n",
        "scheduler = lambda optim: torch.optim.lr_scheduler.ReduceLROnPlateau(optim, patience=5, factor=0.5, verbose=True)\n",
        "\n",
        "# Обучаем модель с помощью train_eval_loop\n",
        "result = train_eval_loop(\n",
        "    model=model,\n",
        "    train_dataset=train_dataset,\n",
        "    val_dataset=test_dataset,\n",
        "    criterion=F.cross_entropy,\n",
        "    lr=1e-1,\n",
        "    epoch_n=200,\n",
        "    batch_size=128,\n",
        "    l2_reg_alpha=1e-3,\n",
        "    lr_scheduler_ctor=scheduler\n",
        ")\n",
        "\n",
        "# Если результат возвращает 2 значения (без val_losses)\n",
        "if len(result) == 2:\n",
        "    best_val_loss, best_model = result\n",
        "    val_losses = []  # Значение по умолчанию, если список потерь не возвращён\n",
        "else:\n",
        "    best_val_loss, best_model, val_losses = result\n"
      ]
    },
    {
      "cell_type": "code",
      "execution_count": null,
      "metadata": {
        "colab": {
          "base_uri": "https://localhost:8080/",
          "height": 564
        },
        "id": "DoLOhMHyQRqe",
        "outputId": "20aa47e7-4972-4516-bdb1-9d0d1167dda9"
      },
      "outputs": [
        {
          "output_type": "display_data",
          "data": {
            "text/plain": [
              "<Figure size 1000x600 with 1 Axes>"
            ],
            "image/png": "[encoded data removed]"
          },
          "metadata": {}
        }
      ],
      "source": [
        "val_losses = [\n",
        "    2.3323322150666836, 2.2889568078315863, 2.3214630272428867, 2.3351162368968383,\n",
        "    2.3205606007980086, 2.330958216877307, 2.3564874398506293, 2.283132520772643,\n",
        "    2.236221707473367, 2.2427215859041376, 2.2997030928983526, 2.327651549193819,\n",
        "    2.322454771753085, 2.390023251711312, 2.2731273578385176, 2.0108058715270736,\n",
        "    1.9995831695653625, 2.007216873815504, 2.0250000246500566, 1.932869781882076,\n",
        "    2.021681015774355, 1.9563072172261902, 1.969563817573806, 1.9614658881041964,\n",
        "    2.0338087384983643, 1.9244190757557498, 1.948505462226221, 1.9603914365930073,\n",
        "    1.9841186798225015, 1.951392515230987, 1.9079312672049313, 1.9624359345031996,\n",
        "    1.986716973579536, 1.990742671287666, 1.948907593549308, 1.9453546313916223,\n",
        "    1.919128310882439, 1.7183677402593323, 1.6856799206491244, 1.7385890039346985,\n",
        "    1.7090287996550737, 1.6875794135918052, 1.6764580354852192, 1.7015922776723311,\n",
        "    1.6715613199492632, 1.7087813898668451, 1.6812804108959134, 1.6062694889003948,\n",
        "    1.7102879124172663, 1.64591507992502, 1.6816182378995217, 1.640320925389306,\n",
        "    1.6855470871521254, 1.651812420052997, 1.4951470605397628, 1.4718054957309012\n",
        "]\n",
        "plt.figure(figsize=(10, 6))\n",
        "plt.plot(range(1, len(val_losses) + 1), val_losses, marker='o', color='b', label='Validation Loss')\n",
        "plt.title('Validation Loss per Epoch')\n",
        "plt.xlabel('Epoch')\n",
        "plt.ylabel('Validation Loss')\n",
        "plt.grid(True)\n",
        "plt.legend()\n",
        "plt.show()"
      ]
    },
    {
      "cell_type": "code",
      "execution_count": null,
      "metadata": {
        "colab": {
          "base_uri": "https://localhost:8080/"
        },
        "id": "Z_vmbQEx5UsG",
        "outputId": "ea35e8b2-456a-4b85-adb4-cbbfbb72dc71"
      },
      "outputs": [
        {
          "output_type": "stream",
          "name": "stderr",
          "text": [
            "100%|██████████| 354/353.5625 [00:29<00:00, 11.96it/s]\n"
          ]
        },
        {
          "output_type": "stream",
          "name": "stdout",
          "text": [
            "Среднее значение функции потерь на обучении 0.8682639002799988\n",
            "Доля верных ответов 0.7633021035884745\n",
            "\n"
          ]
        },
        {
          "output_type": "stream",
          "name": "stderr",
          "text": [
            "236it [00:22, 10.31it/s]\n"
          ]
        },
        {
          "output_type": "stream",
          "name": "stdout",
          "text": [
            "Среднее значение функции потерь на валидации 1.4719266891479492\n",
            "Доля верных ответов 0.5678438661710037\n"
          ]
        }
      ],
      "source": [
        "# Оценка на обучающей выборке\n",
        "train_pred = predict_with_model(best_model, train_dataset)\n",
        "\n",
        "train_loss = F.cross_entropy(torch.from_numpy(train_pred),\n",
        "                             torch.from_numpy(train_source['target']).long())\n",
        "\n",
        "print('Среднее значение функции потерь на обучении', float(train_loss))\n",
        "print('Доля верных ответов', accuracy_score(train_source['target'], train_pred.argmax(-1)))\n",
        "print()\n",
        "\n",
        "# Оценка на тестовой выборке\n",
        "test_pred = predict_with_model(best_model, test_dataset)\n",
        "\n",
        "test_loss = F.cross_entropy(torch.from_numpy(test_pred),\n",
        "                            torch.from_numpy(test_source['target']).long())\n",
        "\n",
        "print('Среднее значение функции потерь на валидации', float(test_loss))\n",
        "print('Доля верных ответов', accuracy_score(test_source['target'], test_pred.argmax(-1)))"
      ]
    }
  ],
  "metadata": {
    "accelerator": "TPU",
    "colab": {
      "gpuType": "V28",
      "provenance": []
    },
    "kernelspec": {
      "display_name": "Python 3",
      "name": "python3"
    },
    "language_info": {
      "name": "python"
    }
  },
  "nbformat": 4,
  "nbformat_minor": 0
}